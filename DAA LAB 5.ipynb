{
 "cells": [
  {
   "cell_type": "code",
   "execution_count": 1,
   "id": "d1732b0e",
   "metadata": {},
   "outputs": [
    {
     "name": "stdout",
     "output_type": "stream",
     "text": [
      "The row with the most number of ones is Row 5.\n"
     ]
    }
   ],
   "source": [
    "def row_with_most_ones(matrix):\n",
    "    max_ones_count = 0\n",
    "    row_with_max_ones = -1\n",
    "\n",
    "    for i, row in enumerate(matrix):\n",
    "        ones_count = row.count(1)\n",
    "        if ones_count > max_ones_count:\n",
    "            max_ones_count = ones_count\n",
    "            row_with_max_ones = i\n",
    "\n",
    "    return row_with_max_ones\n",
    "\n",
    "binary_matrix = [\n",
    "    [0, 1, 1, 0, 1],\n",
    "    [1, 0, 0, 1, 1],\n",
    "    [1, 1, 1, 0, 0],\n",
    "    [0, 0, 1, 1, 0],\n",
    "    [1, 0, 1, 1, 1]\n",
    "]\n",
    "\n",
    "result_row = row_with_most_ones(binary_matrix)\n",
    "\n",
    "if result_row != -1:\n",
    "    print(f\"The row with the most number of ones is Row {result_row + 1}.\")\n",
    "else:\n",
    "    print(\"No row contains ones.\")\n"
   ]
  },
  {
   "cell_type": "code",
   "execution_count": 3,
   "id": "7ccb2a80",
   "metadata": {},
   "outputs": [
    {
     "name": "stdout",
     "output_type": "stream",
     "text": [
      "Sum of the middle row: 15\n",
      "Sum of the middle column: 15\n"
     ]
    }
   ],
   "source": [
    "def middle_row_column_sum(matrix):\n",
    "    num_rows = len(matrix)\n",
    "    num_cols = len(matrix[0])\n",
    "\n",
    "    middle_row = num_rows // 2\n",
    "\n",
    "    middle_col = num_cols // 2\n",
    "\n",
    "    middle_row_sum = sum(matrix[middle_row])\n",
    "\n",
    "    middle_col_sum = sum(row[middle_col] for row in matrix)\n",
    "\n",
    "    return middle_row_sum, middle_col_sum\n",
    "\n",
    "matrix = [\n",
    "    [1, 2, 3],\n",
    "    [4, 5, 6],\n",
    "    [7, 8, 9]\n",
    "]\n",
    "\n",
    "middle_row_sum, middle_col_sum = middle_row_column_sum(matrix)\n",
    "\n",
    "print(f\"Sum of the middle row: {middle_row_sum}\")\n",
    "print(f\"Sum of the middle column: {middle_col_sum}\")\n"
   ]
  },
  {
   "cell_type": "code",
   "execution_count": null,
   "id": "590063be",
   "metadata": {},
   "outputs": [],
   "source": []
  }
 ],
 "metadata": {
  "kernelspec": {
   "display_name": "Python 3 (ipykernel)",
   "language": "python",
   "name": "python3"
  },
  "language_info": {
   "codemirror_mode": {
    "name": "ipython",
    "version": 3
   },
   "file_extension": ".py",
   "mimetype": "text/x-python",
   "name": "python",
   "nbconvert_exporter": "python",
   "pygments_lexer": "ipython3",
   "version": "3.9.12"
  }
 },
 "nbformat": 4,
 "nbformat_minor": 5
}
