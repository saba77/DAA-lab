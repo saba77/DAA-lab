{
 "cells": [
  {
   "cell_type": "code",
   "execution_count": 1,
   "id": "13b2d643",
   "metadata": {},
   "outputs": [
    {
     "data": {
      "text/plain": [
       "False"
      ]
     },
     "execution_count": 1,
     "metadata": {},
     "output_type": "execute_result"
    }
   ],
   "source": [
    "def  find3Number(A, arr_size, sum):\n",
    "    for i in range(0, arr_size-2):\n",
    "        for j in range(i+1, arr_size-1):\n",
    "            for k in range(j+1, arr_size):\n",
    "                if A[i] + A[j] + A[k] == sum:\n",
    "                    print(\"Triplet is\", A[i],\",\", A[j],\",\", A[k])\n",
    "                    \n",
    "                    return True\n",
    "                \n",
    "            return False\n",
    "A = [1, 2, 3, 4, 5]\n",
    "sum = 9\n",
    "arr_size = len(A)\n",
    "find3Number(A, arr_size, sum)"
   ]
  },
  {
   "cell_type": "code",
   "execution_count": 2,
   "id": "513606ef",
   "metadata": {},
   "outputs": [
    {
     "name": "stdout",
     "output_type": "stream",
     "text": [
      "[0, 0, 0, 1, 1, 1, 2, 2, 2]\n"
     ]
    }
   ],
   "source": [
    "def counting_sort(arr):\n",
    "    # Find the maximum value in the array\n",
    "    max_val = max(arr)\n",
    "    \n",
    "    # Initialize count array with zeros\n",
    "    count = [0] * (max_val + 1)\n",
    "    \n",
    "    # Count the occurrences of each element in the array\n",
    "    for num in arr:\n",
    "        count[num] += 1\n",
    "    \n",
    "    # Reconstruct the sorted array\n",
    "    sorted_arr = []\n",
    "    for i in range(len(count)):\n",
    "        sorted_arr.extend([i] * count[i])\n",
    "    \n",
    "    return sorted_arr\n",
    "\n",
    "# Example usage\n",
    "input_array = [0, 0, 1, 2, 0, 1, 2, 2, 1]\n",
    "sorted_array = counting_sort(input_array)\n",
    "print(sorted_array)"
   ]
  },
  {
   "cell_type": "code",
   "execution_count": null,
   "id": "9a032816",
   "metadata": {},
   "outputs": [],
   "source": []
  }
 ],
 "metadata": {
  "kernelspec": {
   "display_name": "Python 3 (ipykernel)",
   "language": "python",
   "name": "python3"
  },
  "language_info": {
   "codemirror_mode": {
    "name": "ipython",
    "version": 3
   },
   "file_extension": ".py",
   "mimetype": "text/x-python",
   "name": "python",
   "nbconvert_exporter": "python",
   "pygments_lexer": "ipython3",
   "version": "3.9.12"
  }
 },
 "nbformat": 4,
 "nbformat_minor": 5
}
