{
 "cells": [
  {
   "cell_type": "code",
   "execution_count": 2,
   "id": "3c4c3e53",
   "metadata": {},
   "outputs": [
    {
     "name": "stdout",
     "output_type": "stream",
     "text": [
      "[[1 2 3]\n",
      " [4 5 6]\n",
      " [7 8 9]]\n",
      "3 6 9 \n",
      "2 5 8 \n",
      "1 4 7 "
     ]
    }
   ],
   "source": [
    "import numpy as np\n",
    "x = np.arange(1, 10).reshape(3, 3)\n",
    "\n",
    "x\n",
    "print(x)\n",
    "for i in range(3):\n",
    "    for j in range(3):\n",
    "        if (i <3 and j ==2 ):\n",
    "            print(x[i][j],end=\" \")\n",
    "print(\"\")           \n",
    "for i in range(3):\n",
    "    for j in range(3):\n",
    "        if (i <3 and j ==1 ):\n",
    "            print(x[i][j],end=\" \")\n",
    "print(\"\")            \n",
    "for i in range(3):\n",
    "    for j in range(3):\n",
    "        if (i <3 and j ==0 ):\n",
    "            print(x[i][j],end=\" \")"
   ]
  },
  {
   "cell_type": "code",
   "execution_count": 4,
   "id": "81425eeb",
   "metadata": {},
   "outputs": [
    {
     "name": "stdout",
     "output_type": "stream",
     "text": [
      "The target number 2 appears at indices: [1, 4, 6]\n"
     ]
    }
   ],
   "source": [
    "def find_indices(arr, target):\n",
    "    indices = [index for index, value in enumerate(arr) if value == target]\n",
    "    return indices\n",
    "\n",
    "input_array = [4, 2, 7, 8, 2, 9, 2, 4]\n",
    "target_number = 2\n",
    "\n",
    "result_indices = find_indices(input_array, target_number)\n",
    "if result_indices:\n",
    "    print(f\"The target number {target_number} appears at indices: {result_indices}\")\n",
    "else:\n",
    "    print(f\"The target number {target_number} is not present in the array.\")"
   ]
  },
  {
   "cell_type": "code",
   "execution_count": null,
   "id": "522fec0c",
   "metadata": {},
   "outputs": [],
   "source": []
  }
 ],
 "metadata": {
  "kernelspec": {
   "display_name": "Python 3 (ipykernel)",
   "language": "python",
   "name": "python3"
  },
  "language_info": {
   "codemirror_mode": {
    "name": "ipython",
    "version": 3
   },
   "file_extension": ".py",
   "mimetype": "text/x-python",
   "name": "python",
   "nbconvert_exporter": "python",
   "pygments_lexer": "ipython3",
   "version": "3.9.12"
  }
 },
 "nbformat": 4,
 "nbformat_minor": 5
}
