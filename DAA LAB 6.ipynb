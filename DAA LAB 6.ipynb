{
 "cells": [
  {
   "cell_type": "code",
   "execution_count": 2,
   "id": "e6b38cf2",
   "metadata": {},
   "outputs": [
    {
     "name": "stdout",
     "output_type": "stream",
     "text": [
      "  0  2  0\n",
      "  4  0  6\n",
      "  0  8  0\n"
     ]
    }
   ],
   "source": [
    "def diagonalMat(row, col, m):\n",
    "\n",
    "\n",
    "    i, l, k = 0, 0, col - 1;\n",
    "\n",
    "    while(i < row):\n",
    "        j = 0;\n",
    "        \n",
    "        if(l == k):\n",
    "            m[l][k] = 0;\n",
    "            l += 1;\n",
    "            k -= 1;\n",
    "\n",
    "        else:\n",
    "            m[i][l] = 0;\n",
    "            l += 1;\n",
    "            m[i][k] = 0;\n",
    "            k -= 1;\n",
    "            \n",
    "        while(j < col):\n",
    "            print(\" \", m[i][j], end = \"\");\n",
    "            j += 1;\n",
    "        i += 1;\n",
    "        print(\"\");\n",
    "\n",
    "if __name__ == '__main__':\n",
    "    m = [[1, 2, 3 ],\n",
    "        [ 4, 5, 6 ],\n",
    "        [ 7, 8, 9 ]];\n",
    "    row, col = 3, 3;\n",
    "    diagonalMat(row, col, m);"
   ]
  },
  {
   "cell_type": "code",
   "execution_count": 3,
   "id": "b8bbb0d6",
   "metadata": {},
   "outputs": [
    {
     "name": "stdout",
     "output_type": "stream",
     "text": [
      "The product of 5 and 7 is: 35\n"
     ]
    }
   ],
   "source": [
    "def multiply(x, y):\n",
    "    result = 0\n",
    "    while y > 0:\n",
    "\n",
    "        if y % 2 == 1:\n",
    "            result = result + x\n",
    "        \n",
    "        x = x << 1\n",
    "        y = y >> 1\n",
    "\n",
    "    return result\n",
    "\n",
    "num1 = 5\n",
    "num2 = 7\n",
    "\n",
    "product = multiply(num1, num2)\n",
    "print(f\"The product of {num1} and {num2} is: {product}\")"
   ]
  },
  {
   "cell_type": "code",
   "execution_count": null,
   "id": "19f4b942",
   "metadata": {},
   "outputs": [],
   "source": []
  }
 ],
 "metadata": {
  "kernelspec": {
   "display_name": "Python 3 (ipykernel)",
   "language": "python",
   "name": "python3"
  },
  "language_info": {
   "codemirror_mode": {
    "name": "ipython",
    "version": 3
   },
   "file_extension": ".py",
   "mimetype": "text/x-python",
   "name": "python",
   "nbconvert_exporter": "python",
   "pygments_lexer": "ipython3",
   "version": "3.9.12"
  }
 },
 "nbformat": 4,
 "nbformat_minor": 5
}
