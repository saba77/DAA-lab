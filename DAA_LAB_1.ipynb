{
 "cells": [
  {
   "cell_type": "code",
   "execution_count": 1,
   "id": "e8828963",
   "metadata": {},
   "outputs": [
    {
     "name": "stdout",
     "output_type": "stream",
     "text": [
      "2000000000000000000000 "
     ]
    }
   ],
   "source": [
    "def LeadersNumber(arr,size):\n",
    "    for i in range(0, size):\n",
    "        j = i + 1\n",
    "        is_leader = True\n",
    "        \n",
    "        while j < size:\n",
    "            if arr[i]<=arr[j]:\n",
    "                break\n",
    "            j += 1\n",
    "            \n",
    "        if is_leader and j == size:\n",
    "            print (arr[i],end=\" \")\n",
    " \n",
    "arr=[16, 17, 4, 3, 5000, 2000000000000000000000]\n",
    "LeadersNumber(arr, len(arr))"
   ]
  },
  {
   "cell_type": "code",
   "execution_count": 2,
   "id": "8b9f53c9",
   "metadata": {},
   "outputs": [
    {
     "name": "stdout",
     "output_type": "stream",
     "text": [
      "[3, 7, 4, 8, 2, 6, 1]\n"
     ]
    }
   ],
   "source": [
    "def zigZag(arr, n):\n",
    "    digit = True\n",
    "    for i in range(n - 1):\n",
    "   \n",
    "        if digit is True:\n",
    "\n",
    "            if arr[i] > arr[i + 1]:\n",
    "                arr[i], arr[i + 1] = arr[i + 1], arr[i]\n",
    "        else:\n",
    "\n",
    "            if arr[i] < arr[i + 1]:\n",
    "                arr[i], arr[i + 1] = arr[i + 1], arr[i]\n",
    "        digit = bool(1 - digit)\n",
    "    print(arr)\n",
    "\n",
    "arr = [4, 3, 7, 8, 6, 2, 1]\n",
    "n = len(arr)\n",
    "zigZag(arr, n)"
   ]
  },
  {
   "cell_type": "code",
   "execution_count": null,
   "id": "b07719a6",
   "metadata": {},
   "outputs": [],
   "source": []
  }
 ],
 "metadata": {
  "kernelspec": {
   "display_name": "Python 3 (ipykernel)",
   "language": "python",
   "name": "python3"
  },
  "language_info": {
   "codemirror_mode": {
    "name": "ipython",
    "version": 3
   },
   "file_extension": ".py",
   "mimetype": "text/x-python",
   "name": "python",
   "nbconvert_exporter": "python",
   "pygments_lexer": "ipython3",
   "version": "3.9.12"
  }
 },
 "nbformat": 4,
 "nbformat_minor": 5
}
